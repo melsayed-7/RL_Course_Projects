{
  "nbformat": 4,
  "nbformat_minor": 0,
  "metadata": {
    "colab": {
      "name": "Deep_RL_Agent_Cartpole.ipynb",
      "version": "0.3.2",
      "provenance": [],
      "include_colab_link": true
    },
    "kernelspec": {
      "name": "python3",
      "display_name": "Python 3"
    },
    "accelerator": "GPU"
  },
  "cells": [
    {
      "cell_type": "markdown",
      "metadata": {
        "id": "view-in-github",
        "colab_type": "text"
      },
      "source": [
        "<a href=\"https://colab.research.google.com/github/moustafa-7/RL_Course_Projects/blob/master/Deep_RL_Agent_Cartpole.ipynb\" target=\"_parent\"><img src=\"https://colab.research.google.com/assets/colab-badge.svg\" alt=\"Open In Colab\"/></a>"
      ]
    },
    {
      "cell_type": "code",
      "metadata": {
        "id": "1XDvssQd64Pf",
        "colab_type": "code",
        "colab": {}
      },
      "source": [
        "!apt-get install -y xvfb python-opengl > /dev/null 2>&1"
      ],
      "execution_count": 0,
      "outputs": []
    },
    {
      "cell_type": "code",
      "metadata": {
        "id": "F5esgX013vPe",
        "colab_type": "code",
        "colab": {}
      },
      "source": [
        "!pip install gym pyvirtualdisplay > /dev/null 2>&1"
      ],
      "execution_count": 0,
      "outputs": []
    },
    {
      "cell_type": "code",
      "metadata": {
        "id": "ayyFwhs1nRhN",
        "colab_type": "code",
        "outputId": "58a0f98a-58ae-4321-c045-d9e6785c975b",
        "colab": {
          "base_uri": "https://localhost:8080/",
          "height": 176
        }
      },
      "source": [
        "! pip install pyglet==1.3.2"
      ],
      "execution_count": 4,
      "outputs": [
        {
          "output_type": "stream",
          "text": [
            "Collecting pyglet==1.3.2\n",
            "\u001b[?25l  Downloading https://files.pythonhosted.org/packages/1c/fc/dad5eaaab68f0c21e2f906a94ddb98175662cc5a654eee404d59554ce0fa/pyglet-1.3.2-py2.py3-none-any.whl (1.0MB)\n",
            "\u001b[K     |████████████████████████████████| 1.0MB 6.1MB/s \n",
            "\u001b[?25hRequirement already satisfied: future in /usr/local/lib/python3.6/dist-packages (from pyglet==1.3.2) (0.16.0)\n",
            "Installing collected packages: pyglet\n",
            "  Found existing installation: pyglet 1.4.2\n",
            "    Uninstalling pyglet-1.4.2:\n",
            "      Successfully uninstalled pyglet-1.4.2\n",
            "Successfully installed pyglet-1.3.2\n"
          ],
          "name": "stdout"
        }
      ]
    },
    {
      "cell_type": "code",
      "metadata": {
        "id": "Qbi2xaFo31Sj",
        "colab_type": "code",
        "colab": {}
      },
      "source": [
        "import gym\n",
        "import numpy as np\n",
        "import matplotlib.pyplot as plt\n",
        "from IPython import display as ipythondisplay\n",
        "import time"
      ],
      "execution_count": 0,
      "outputs": []
    },
    {
      "cell_type": "code",
      "metadata": {
        "id": "FGqXqJxoAsHG",
        "colab_type": "code",
        "outputId": "7c433315-d555-4147-bef7-56a5199a855b",
        "colab": {
          "base_uri": "https://localhost:8080/",
          "height": 52
        }
      },
      "source": [
        "from pyvirtualdisplay import Display\n",
        "display = Display(visible=0, size=(400, 300))\n",
        "display.start()"
      ],
      "execution_count": 2,
      "outputs": [
        {
          "output_type": "stream",
          "text": [
            "xdpyinfo was not found, X start can not be checked! Please install xdpyinfo!\n"
          ],
          "name": "stderr"
        },
        {
          "output_type": "execute_result",
          "data": {
            "text/plain": [
              "<Display cmd_param=['Xvfb', '-br', '-nolisten', 'tcp', '-screen', '0', '400x300x24', ':1001'] cmd=['Xvfb', '-br', '-nolisten', 'tcp', '-screen', '0', '400x300x24', ':1001'] oserror=None return_code=None stdout=\"None\" stderr=\"None\" timeout_happened=False>"
            ]
          },
          "metadata": {
            "tags": []
          },
          "execution_count": 2
        }
      ]
    },
    {
      "cell_type": "code",
      "metadata": {
        "id": "_NqkvD032m45",
        "colab_type": "code",
        "colab": {}
      },
      "source": [
        "import tensorflow as tf\n",
        "import tensorflow.contrib.slim as slim\n",
        "import numpy as np\n",
        "import gym\n",
        "import matplotlib.pyplot as plt\n",
        "%matplotlib inline\n",
        "\n",
        "try:\n",
        "  xrange = xrange\n",
        "except:\n",
        "  xrange = range "
      ],
      "execution_count": 0,
      "outputs": []
    },
    {
      "cell_type": "code",
      "metadata": {
        "id": "lY6vrRiD2-ET",
        "colab_type": "code",
        "colab": {}
      },
      "source": [
        "env = gym.make('CartPole-v0')"
      ],
      "execution_count": 0,
      "outputs": []
    },
    {
      "cell_type": "code",
      "metadata": {
        "id": "eAsft41A3H-4",
        "colab_type": "code",
        "colab": {}
      },
      "source": [
        "\n",
        "gamma = 0.99\n",
        "\n",
        "def discount_rewards(r):\n",
        "    \"\"\" take 1D float array of rewards and compute discounted reward \"\"\"\n",
        "    discounted_r = np.zeros_like(r)\n",
        "    running_add = 0\n",
        "    for t in reversed(xrange(0, r.size)):\n",
        "        running_add = running_add * gamma + r[t]\n",
        "        discounted_r[t] = running_add\n",
        "    return discounted_r"
      ],
      "execution_count": 0,
      "outputs": []
    },
    {
      "cell_type": "code",
      "metadata": {
        "id": "s8T5Qeuv3rc2",
        "colab_type": "code",
        "colab": {}
      },
      "source": [
        "class agent():\n",
        "  def __init__(self, lr, s_size, a_size, h_size):\n",
        "    \n",
        "    # forward propagation    \n",
        "    self.state_in = tf.placeholder(shape = [None, s_size], dtype = tf.float32)\n",
        "    hidden = slim.fully_connected(self.state_in, h_size, biases_initializer = None, activation_fn = tf.nn.relu)\n",
        "    self.output = slim.fully_connected(hidden, a_size, biases_initializer = None, activation_fn = tf.nn.softmax)\n",
        "    self.chosen_action = tf.argmax(self.output, 1)\n",
        "    \n",
        "    # Backpropagation\n",
        "    \n",
        "    self.reward_holder = tf.placeholder(shape = [None], dtype = tf.float32)\n",
        "    self.action_holder = tf.placeholder(shape = [None], dtype = tf.int32)\n",
        "    \n",
        "    self.indexes = tf.range(0, tf.shape(self.output)[0]) * tf.shape(self.output)[1] + self.action_holder\n",
        "    \n",
        "    self.responsible_outputs = tf.gather(tf.reshape(self.output, [-1]), self.indexes)\n",
        "    self.loss = -tf.reduce_mean(tf.log(self.responsible_outputs)*self.reward_holder)\n",
        "    \n",
        "    tvars = tf.trainable_variables()\n",
        "    self.gradient_holders = []\n",
        "    \n",
        "    for idx, var in enumerate(tvars):\n",
        "      placeholder = tf.placeholder(tf.float32, name=str(idx)+'_holder')\n",
        "      self.gradient_holders.append(placeholder)\n",
        "      \n",
        "    self.gradients = tf.gradients(self.loss, tvars)\n",
        "    \n",
        "    optimizer = tf.train.AdamOptimizer(learning_rate = lr)\n",
        "    self.update_batch = optimizer.apply_gradients(zip(self.gradient_holders,tvars))  # also instead tf.gradient we can use computgradients in the adam optimizer"
      ],
      "execution_count": 0,
      "outputs": []
    },
    {
      "cell_type": "code",
      "metadata": {
        "id": "8QbR_9RCC3vY",
        "colab_type": "code",
        "colab": {}
      },
      "source": [
        "tf.reset_default_graph()\n",
        "\n",
        "my_agent = agent(lr=1e-2,s_size=4,a_size=2,h_size=8)\n",
        "\n",
        "total_episodes = 5000\n",
        "max_ep = 999\n",
        "update_frequency = 5\n",
        "\n",
        "\n",
        "init = tf.global_variables_initializer()"
      ],
      "execution_count": 0,
      "outputs": []
    },
    {
      "cell_type": "code",
      "metadata": {
        "id": "sDj0bbEBDoFR",
        "colab_type": "code",
        "outputId": "51255e85-0019-4cc6-d3ab-9a705dd235b7",
        "colab": {
          "base_uri": "https://localhost:8080/",
          "height": 372
        }
      },
      "source": [
        "with tf.Session() as sess:\n",
        "\n",
        "  sess.run(init)\n",
        "  i = 0\n",
        "  total_reward = []\n",
        "  total_steps = []\n",
        "  grad_buffer = sess.run(tf.trainable_variables())\n",
        "  \n",
        "  for ix, grad in enumerate(grad_buffer):\n",
        "    grad_buffer[ix] = grad*0\n",
        "    \n",
        "    \n",
        "  while i < total_episodes:\n",
        "    s = env.reset()\n",
        "    running_reward = 0\n",
        "    ep_history = []\n",
        "    \n",
        "    for j in range(max_ep):\n",
        "      a_dist = sess.run(my_agent.output, feed_dict={my_agent.state_in:[s]})\n",
        "      a = np.random.choice(a_dist[0], p=a_dist[0]) # probabilistically taking an action\n",
        "      a = np.argmax(a_dist == a)\n",
        "      \n",
        "      s1, r, d, _ = env.step(a)\n",
        "      ep_history.append([s,a,r,s1])\n",
        "      s = s1\n",
        "      \n",
        "      running_reward += r\n",
        "      \n",
        "      if d==True:\n",
        "        ep_history = np.array(ep_history)\n",
        "        ep_history[:,2] = discount_rewards(ep_history[:,2])\n",
        "        \n",
        "        feed_dict = {my_agent.reward_holder: ep_history[:,2],\n",
        "                     my_agent.action_holder: ep_history[:,1],\n",
        "                     my_agent.state_in:np.vstack(ep_history[:,0])}\n",
        "        \n",
        "        grads = sess.run(my_agent.gradients, feed_dict = feed_dict)\n",
        "        \n",
        "        for idx,grad in enumerate(grads):\n",
        "                    grad_buffer[idx] += grad\n",
        "            \n",
        "        if (i % update_frequency == 0) and (i != 0):\n",
        "          feed_dict = dictionary = dict(zip(my_agent.gradient_holders, grad_buffer))\n",
        "          _ = sess.run(my_agent.update_batch, feed_dict = feed_dict)\n",
        "          for ix, grad in enumerate(grad_buffer):\n",
        "            grad_buffer[ix] = grad * 0\n",
        "            \n",
        "          \n",
        "        total_reward.append(running_reward)\n",
        "        total_steps.append(j)\n",
        "        break\n",
        "          \n",
        "         \n",
        "    if i % 100 == 0:\n",
        "      print (np.mean(total_reward[-100:]))\n",
        "    \n",
        "    i += 1\n",
        "    \n",
        "  \n",
        "  s = env.reset()\n",
        "  #plt.imshow(prev_screen)\n",
        "\n",
        "  for i in range(2000):\n",
        "  \n",
        "    a_dist = sess.run(my_agent.output, feed_dict={my_agent.state_in:[s]})\n",
        "    a = np.random.choice(a_dist[0], p=a_dist[0]) # probabilistically taking an action\n",
        "    a = np.argmax(a_dist == a)\n",
        "    obs, reward, done, info = env.step(a)\n",
        "    screen = env.render(mode='rgb_array')\n",
        "  \n",
        "      \n",
        "    plt.imshow(screen)\n",
        "    ipythondisplay.clear_output(wait=True)\n",
        "    ipythondisplay.display(plt.gcf())\n",
        "\n",
        "    time.sleep(1)\n",
        "    if done:\n",
        "      break\n",
        "    \n",
        "    ipythondisplay.clear_output(wait=True)\n",
        "    env.close()\n",
        "    \n",
        "    \n",
        "\n",
        "\n"
      ],
      "execution_count": 0,
      "outputs": [
        {
          "output_type": "stream",
          "text": [
            "53.0\n",
            "26.5\n",
            "36.6\n",
            "49.28\n",
            "53.64\n",
            "77.27\n",
            "98.14\n",
            "128.33\n",
            "164.43\n",
            "179.74\n",
            "186.25\n",
            "180.1\n",
            "172.85\n",
            "174.81\n",
            "186.09\n",
            "186.24\n",
            "173.0\n",
            "174.74\n",
            "190.59\n",
            "198.62\n"
          ],
          "name": "stdout"
        }
      ]
    }
  ]
}