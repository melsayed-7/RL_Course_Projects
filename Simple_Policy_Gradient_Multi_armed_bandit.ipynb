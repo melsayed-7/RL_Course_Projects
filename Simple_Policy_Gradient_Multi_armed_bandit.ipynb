{
  "nbformat": 4,
  "nbformat_minor": 0,
  "metadata": {
    "colab": {
      "name": "Simple-Policy-Gradient_Multi-armed-bandit.ipynb",
      "version": "0.3.2",
      "provenance": [],
      "include_colab_link": true
    },
    "kernelspec": {
      "name": "python3",
      "display_name": "Python 3"
    },
    "accelerator": "GPU"
  },
  "cells": [
    {
      "cell_type": "markdown",
      "metadata": {
        "id": "view-in-github",
        "colab_type": "text"
      },
      "source": [
        "<a href=\"https://colab.research.google.com/github/moustafa-7/Simple-Policy-Gradient-Network/blob/master/Simple_Policy_Gradient_Multi_armed_bandit.ipynb\" target=\"_parent\"><img src=\"https://colab.research.google.com/assets/colab-badge.svg\" alt=\"Open In Colab\"/></a>"
      ]
    },
    {
      "cell_type": "code",
      "metadata": {
        "id": "BACMO3luuPL_",
        "colab_type": "code",
        "colab": {}
      },
      "source": [
        "import tensorflow as tf\n",
        "import numpy as np"
      ],
      "execution_count": 0,
      "outputs": []
    },
    {
      "cell_type": "code",
      "metadata": {
        "id": "87OVJxClzjEg",
        "colab_type": "code",
        "colab": {}
      },
      "source": [
        "# here we define the constant bandits value\n",
        "bandits = [0.2, 0, 0.2 , -5]\n",
        "num_bandits = len(bandits)\n",
        "\n",
        "def pull_bandit(bandit):\n",
        "  result = np.random.randn(1)\n",
        "  \n",
        "  if result > bandit:\n",
        "    return 1 \n",
        "  \n",
        "  else:\n",
        "    return -1"
      ],
      "execution_count": 0,
      "outputs": []
    },
    {
      "cell_type": "code",
      "metadata": {
        "id": "sRBvaclD2VjZ",
        "colab_type": "code",
        "colab": {}
      },
      "source": [
        "tf.reset_default_graph()\n",
        "\n",
        "\n",
        "weights = tf.Variable(tf.ones([num_bandits]))\n",
        "chosen_action = tf.argmax(weights, 0)\n",
        "\n",
        "reward_holder = tf.placeholder(shape = [1], dtype = tf.float32)\n",
        "action_holder = tf.placeholder(shape = [1], dtype = tf.int32)\n",
        "\n",
        "responsible_weight = tf.slice(weights, action_holder , [1])\n",
        "loss = -(tf.log(responsible_weight)*reward_holder)\n",
        "optimizer = tf.train.GradientDescentOptimizer(learning_rate = 0.001)\n",
        "update = optimizer.minimize(loss)\n"
      ],
      "execution_count": 0,
      "outputs": []
    },
    {
      "cell_type": "code",
      "metadata": {
        "id": "Y7AS0ALR4Xny",
        "colab_type": "code",
        "colab": {
          "base_uri": "https://localhost:8080/",
          "height": 391
        },
        "outputId": "75163d19-219b-465b-b698-89305a61604d"
      },
      "source": [
        "num_episodes = 1000\n",
        "total_reward = np.zeros(num_bandits)\n",
        "e = 0.1\n",
        "\n",
        "init  = tf.initialize_all_variables()\n",
        "\n",
        "with tf.Session() as sess:\n",
        "  sess.run(init)\n",
        "  for i in range(num_episodes):\n",
        "    \n",
        "    if(np.random.randn(1) < e):\n",
        "      action = np.random.randint(num_bandits)\n",
        "    else:\n",
        "      action = sess.run(chosen_action)\n",
        "      \n",
        "      \n",
        "    reward = pull_bandit(bandits[action])\n",
        "    \n",
        "    _, resp, ww = sess.run([update, loss, responsible_weight],\n",
        "                          feed_dict = {reward_holder: [reward], action_holder: [action]})\n",
        "    \n",
        "    total_reward[action] += reward\n",
        "    \n",
        "    if (i % 50 == 0):\n",
        "      print(\"Running reward for the \" + str(num_bandits) + \" bandits: \" + str(total_reward))\n",
        "      \n",
        "print(\"The agent thinks bandit \" + str(np.argmax(total_reward)+1) + \" is the most promising....\")\n",
        "      \n",
        "if np.argmax(total_reward) == np.argmax(-np.array(bandits)):\n",
        "    print (\"...and it was right!\")\n",
        "else:\n",
        "    print (\"...and it was wrong!\")\n",
        "    \n",
        "    \n",
        "  "
      ],
      "execution_count": 12,
      "outputs": [
        {
          "output_type": "stream",
          "text": [
            "Running reward for the 4 bandits: [ 0. -1.  0.  0.]\n",
            "Running reward for the 4 bandits: [-3. -5. -5. 30.]\n",
            "Running reward for the 4 bandits: [ 2. -7.  0. 52.]\n",
            "Running reward for the 4 bandits: [-3. -7. -1. 80.]\n",
            "Running reward for the 4 bandits: [ -6.  -2.  -2. 113.]\n",
            "Running reward for the 4 bandits: [ -7.  -4.  -4. 148.]\n",
            "Running reward for the 4 bandits: [ -8.  -1.  -4. 176.]\n",
            "Running reward for the 4 bandits: [ -9.   4.  -4. 208.]\n",
            "Running reward for the 4 bandits: [ -9.   8.  -4. 242.]\n",
            "Running reward for the 4 bandits: [-11.   5.  -7. 274.]\n",
            "Running reward for the 4 bandits: [-12.   2.  -8. 307.]\n",
            "Running reward for the 4 bandits: [ -9.   3. -11. 340.]\n",
            "Running reward for the 4 bandits: [ -9.   0. -14. 370.]\n",
            "Running reward for the 4 bandits: [-12.  -1. -13. 403.]\n",
            "Running reward for the 4 bandits: [-11.   3. -14. 433.]\n",
            "Running reward for the 4 bandits: [-10.  -3. -13. 459.]\n",
            "Running reward for the 4 bandits: [-13.  -4. -19. 487.]\n",
            "Running reward for the 4 bandits: [-13.  -1. -19. 516.]\n",
            "Running reward for the 4 bandits: [-16.   2. -19. 546.]\n",
            "Running reward for the 4 bandits: [-18.   2. -21. 574.]\n",
            "The agent thinks bandit 4 is the most promising....\n",
            "...and it was right!\n"
          ],
          "name": "stdout"
        }
      ]
    },
    {
      "cell_type": "code",
      "metadata": {
        "id": "eWjIlrUA7rJM",
        "colab_type": "code",
        "colab": {}
      },
      "source": [
        ""
      ],
      "execution_count": 0,
      "outputs": []
    }
  ]
}