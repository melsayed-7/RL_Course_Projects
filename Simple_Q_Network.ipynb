{
  "nbformat": 4,
  "nbformat_minor": 0,
  "metadata": {
    "colab": {
      "name": "Simple Q-Network.ipynb",
      "version": "0.3.2",
      "provenance": [],
      "include_colab_link": true
    },
    "kernelspec": {
      "name": "python3",
      "display_name": "Python 3"
    },
    "accelerator": "GPU"
  },
  "cells": [
    {
      "cell_type": "markdown",
      "metadata": {
        "id": "view-in-github",
        "colab_type": "text"
      },
      "source": [
        "<a href=\"https://colab.research.google.com/github/moustafa-7/Simple-Q-Network/blob/master/Simple_Q_Network.ipynb\" target=\"_parent\"><img src=\"https://colab.research.google.com/assets/colab-badge.svg\" alt=\"Open In Colab\"/></a>"
      ]
    },
    {
      "cell_type": "code",
      "metadata": {
        "id": "Q_pzX2hJz5Lp",
        "colab_type": "code",
        "colab": {}
      },
      "source": [
        "import numpy as np\n",
        "import tensorflow as tf\n",
        "import matplotlib.pyplot as plt\n",
        "import gym\n",
        "%matplotlib inline\n"
      ],
      "execution_count": 0,
      "outputs": []
    },
    {
      "cell_type": "code",
      "metadata": {
        "id": "DgO33UfJ0X8l",
        "colab_type": "code",
        "colab": {}
      },
      "source": [
        "env = gym.make(\"FrozenLake-v0\")"
      ],
      "execution_count": 0,
      "outputs": []
    },
    {
      "cell_type": "code",
      "metadata": {
        "id": "cDSW0AGt0d0L",
        "colab_type": "code",
        "colab": {}
      },
      "source": [
        "tf.reset_default_graph()"
      ],
      "execution_count": 0,
      "outputs": []
    },
    {
      "cell_type": "code",
      "metadata": {
        "id": "wMIiR97Q0hcN",
        "colab_type": "code",
        "colab": {}
      },
      "source": [
        "inputs_1 = tf.placeholder(shape = [1,16], dtype = tf.float32)\n",
        "w = tf.Variable(tf.random_uniform([16,4],0,0.1))\n",
        "q_out = tf.matmul(inputs_1,w)\n",
        "predict = tf.argmax(q_out,1)\n",
        "\n",
        "\n",
        "next_q = tf.placeholder(shape = [1,4], dtype = tf.float32)\n",
        "loss = tf.reduce_sum(tf.square(next_q - q_out))\n",
        "trainer = tf.train.GradientDescentOptimizer(learning_rate = 0.1)\n",
        "update_model = trainer.minimize(loss)"
      ],
      "execution_count": 0,
      "outputs": []
    },
    {
      "cell_type": "code",
      "metadata": {
        "id": "FUTDXGoc5AwA",
        "colab_type": "code",
        "outputId": "11a2d5ee-fea0-4003-dd2d-d7ce00ad5852",
        "colab": {
          "base_uri": "https://localhost:8080/",
          "height": 34
        }
      },
      "source": [
        "init = tf.initialize_all_variables()\n",
        "y=0.99\n",
        "e = 0.1\n",
        "num_episodes = 2000\n",
        "\n",
        "j_list = []\n",
        "r_list = []\n",
        "\n",
        "with tf.Session() as sess:\n",
        "  sess.run(init)\n",
        "  for i in range(num_episodes):\n",
        "    s = env.reset()\n",
        "    r_all = 0\n",
        "    d = False\n",
        "    j = 0\n",
        "    count  = 0.0\n",
        "  \n",
        "    while j<99:\n",
        "      j += 1 \n",
        "      a,all_q = sess.run([predict,q_out],feed_dict={inputs_1:np.identity(16)[s:s+1]})\n",
        "    \n",
        "      if np.random.rand(1) < e:\n",
        "        a[0] = env.action_space.sample()\n",
        "      \n",
        "      s1,r,d,_ = env.step(a[0])\n",
        "    \n",
        "      q_1 = sess.run(q_out, feed_dict={inputs_1: np.identity(16)[s1:s1+1]})\n",
        "    \n",
        "      max_q1 = np.max(q_1)\n",
        "      target_q = all_q\n",
        "      target_q[0,a[0]] = r + y*max_q1\n",
        "    \n",
        "      _, w1 = sess.run([update_model, w], feed_dict = {inputs_1:np.identity(16)[s:s+1], next_q:target_q})\n",
        "    \n",
        "      r_all += r\n",
        "      s = s1\n",
        "    \n",
        "      if d == True:\n",
        "        #Reduce chance of random action as we train the model.\n",
        "        e = 1./((i/50) + 10)\n",
        "        count = count +1\n",
        "      \n",
        "        break\n",
        "    \n",
        "    jList.append(j)\n",
        "    rList.append(rAll)\n",
        "#print(\"Percent of succesful episodes: \" + str(sum(rList)/num_episodes) + \"%\")\n",
        "print(\"Percent of succesful episodes: \" + str((float(count)/num_episodes)*100) + \"%\")\n"
      ],
      "execution_count": 0,
      "outputs": [
        {
          "output_type": "stream",
          "text": [
            "Percent of succesful episodes: 0.05%\n"
          ],
          "name": "stdout"
        }
      ]
    }
  ]
}